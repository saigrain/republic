{
 "cells": [
  {
   "cell_type": "markdown",
   "metadata": {},
   "source": [
    "# PLATO-republic\n",
    "\n",
    "PLATO will use multiple cameras to observe the same stars. Hopefully the systematics affecting the different cameras will be different. Here I develop an algorithm for modelling the systematics simultaneously with the intrinsic variability of the stars, and disentagling the two, that makes use of this specific configuration."
   ]
  },
  {
   "cell_type": "markdown",
   "metadata": {},
   "source": [
    "## The model\n",
    "\n",
    "The observed (background-subtracted) flux for star $i$ ($i=1 \\rightarrow I$) in camera $j$ ($j=1\\rightarrow J$) at exposure $k$ ($k=1\\rightarrow K$) is modelled as follows:\n",
    "\n",
    "$$\n",
    "F_{ijk} = A_{ik} + B_{ijk} + E_{ijk}\n",
    "$$\n",
    "\n",
    "where \n",
    "* $A_{ik} $ represents the intrinsic flux of star $i$ in frame $k$, \n",
    "* $B_{ijk}$ the systematic noise for star $i$ in frame $k$ on camera $j$, and \n",
    "* $E_{ijk}$ the corresponding random noise, which we assume to be white and Gaussian with (known) standard deviation $\\sigma_{ijk}$"
   ]
  },
  {
   "cell_type": "markdown",
   "metadata": {},
   "source": [
    "### Caveats\n",
    "\n",
    "The above model assumes that:\n",
    "- the systematics are additive rather than multiplicative;\n",
    "- the contamination and aperture losses are the same in all cameras.\n",
    "\n",
    "One could account for multiplicative trends by modelling the logarithm of the flux, but one would then have to treat the white noise as multiplicative also which is unlikely to be strictly correct. In practice one might have to try both and see which works best.\n",
    "\n",
    "The model can be modified to account for variable contamination and aperture losses by replacing $A_{ik}$ with $\\alpha_{ij} A_{ik} + \\beta{ij}$ where $0<\\alpha_{ij} \\le 1$ represents the fraction of the total flux of star $i$ captured in the aperture in camera $j$ and $\\beta_{ij}$ the contaminating flux in the aperture.\n",
    "\n",
    "However to keep things simple these modifications are not discussed further here."
   ]
  },
  {
   "cell_type": "markdown",
   "metadata": {},
   "source": [
    "### Linear basis model for the systematics\n",
    "\n",
    "The systematics are modelled as a linear combination of individual \"trends\" which are specific to each camera but common to all stars on that camera:\n",
    "\n",
    "$$\n",
    "B_{ijk} = \\sum_{n=1}^{N_j} W_{ijn} T_{jkn}\n",
    "$$\n",
    "\n",
    "where $T_{jkn}$ is the value of the $n^{\\rm th}$ systematic trend for camera $j$ in frame $k$, $N_j$ is the number of systematic trends for camera $j$, and $w_{ijn}$ is the coefficient linking that trend to star $i$. \n",
    "\n",
    "To keep the notation simple, from now on I will assume $N_j=N ~ \\forall j$, but the results can easily be extended to the case where different numbers of trends are used for different cameras. From now on I will also write $\\sum_k$ instead of $\\sum_{k=1}^K$, and so on.\n",
    "\n",
    "The above equation can be re-written in matrix form:\n",
    "\n",
    "$$\n",
    "\\mathbf{b}_{ij} = \\mathbf{w}_{ij}^T \\mathrm{T}_j\n",
    "$$\n",
    "\n",
    "where\n",
    "* $\\mathbf{b}_{ij}$ is a $K$-element vector with elements $\\{B_{ijk}\\}$,\n",
    "* $\\mathbf{w}_{ij}$ is a $N_j$-element vector with elements $\\{W_{ijn}\\}$, and \n",
    "* $\\mathrm{T}_{j}$ is a $K \\times N$-element matrix with elements $\\{T_{jkn}\\}$.\n",
    "\n",
    "Then the overall model becomes\n",
    "\n",
    "$$\n",
    "\\mathbf{f}_{ij} = \\mathbf{a}_i + \\mathbf{b}_{ij} + \\mathbf{e}_{ij}\n",
    "$$\n",
    "\n",
    "where\n",
    "* $\\mathbf{f}_{ij}$ is a $K$-element vector with elements $\\{F_{ijk}\\}$,\n",
    "* $\\mathbf{a}_i$ is a $K$-element vector with elements $\\{A_{ik}\\}$,\n",
    "* $\\mathbf{e}_{ij}$ is a $K$-element vector with elements $\\{E_{ijk}\\}$,\n"
   ]
  },
  {
   "cell_type": "markdown",
   "metadata": {
    "collapsed": true
   },
   "source": [
    "### Two-step modelling approach\n",
    "\n",
    "The algorithm has two steps:\n",
    "1. identifying the systematic trends for each camera, and\n",
    "2. fitting the trends and instrinsic variability for each star. \n",
    "\n",
    "This is very much like the PDC-MAP pipeline used by Kepler, K2 and TESS, and indeed the trend identification scheme is basically the same, so I only describe it briefly. \n",
    "\n",
    "On the other hand the availability of multiple time-series per star from different cameras makes it possible to fit the trends for each star in a different manner that explicitly models the stellar variability as well, and should hopefully be more robust."
   ]
  },
  {
   "cell_type": "markdown",
   "metadata": {},
   "source": [
    "### Trend identification\n",
    "\n",
    "Following the PDC-MAP approach (Smith et al. 2012), the trends can be identified as the first few principal components of a matrix constructed from the most mutually correlated light curves on a given camera, appropriately weighted. Alternatively (or in addition) external house-keeping parameters such as satellite pointing, detector temperature and camera focus can be included in the basis.\n",
    "\n",
    "From now on we assume the trends are known."
   ]
  },
  {
   "cell_type": "markdown",
   "metadata": {
    "collapsed": true
   },
   "source": [
    "### Star-by-star fitting\n",
    "\n",
    "Once the trends are known, each star can be modelled independently so I will drop the $i$ subscript from now on. \n",
    "\n",
    "If we model the $J$ observed time-series for each star simultaneously, we have $D \\equiv K \\times J$ observables, and $P \\equiv K + J \\times N$ parameters: the $A_k$'s and $W_{jn}$'s (plus optionally a scaling factor or additive term for the white noise). So long as $D \\gg P$, the model should be well constrained. \n",
    "\n",
    "If the white noise standard deviation is known (which is a fair assumption for space data), maximising the model likelihood w.r.t. the parameters is equivalent to minimizing the total $\\chi^2$. As the model is purely linear this should result in a set of simultaneous equations that can be re-written as one big matrix equation."
   ]
  },
  {
   "cell_type": "markdown",
   "metadata": {},
   "source": [
    "## $\\chi^2$ minimization"
   ]
  },
  {
   "cell_type": "markdown",
   "metadata": {},
   "source": [
    "### Writing down the $\\chi^2$\n",
    "\n",
    "The total $\\chi^2$ for star $k$ is given by\n",
    "\n",
    "$$\n",
    "\\begin{aligned}\n",
    "\\chi^2 & = \\sum_j \\sum_k \\sigma_{jk}^{-2} \\left[ F_{jk} - A_k - \\sum_n W_{jn} T_{jkn} \\right]^2 \\\\\n",
    "& = \\sum_j \\sum_k \\sigma_{jk}^{-2} \\left[ F^2_{jk} + A_k^2 + \\sum_n W_{jn} T_{jkn} \\sum_{m = 1}^N W_{jm} T_{jkm} - 2 F_{jk} A_k + 2 ( A_k - F_{jk}) \\sum_n W_{jn} T_{jkn} \\right]\n",
    "\\end{aligned}.\n",
    "$$"
   ]
  },
  {
   "cell_type": "markdown",
   "metadata": {},
   "source": [
    "### Differentiating the $\\chi^2$ w.r.t. the parameters:"
   ]
  },
  {
   "cell_type": "markdown",
   "metadata": {},
   "source": [
    "To differentiate w.r.t. $A_k$, first write out just the terms involving A_k:\n",
    "\n",
    "$$\n",
    "\\chi^2(A_k~{\\rm terms~only}) = \\sum_j \\sigma^{-2}_{jk} \\left[ A_k^2 - 2 F_{jk} A_k + 2 A_k \\sum_n W_{jn} T_{jkn}\\right].\n",
    "$$"
   ]
  },
  {
   "cell_type": "markdown",
   "metadata": {},
   "source": [
    "Now differentiate:\n",
    "\n",
    "$$\n",
    "\\frac{\\partial \\chi^2}{\\partial A_k} = 2 A_k \\sum_j \\frac{1}{\\sigma_{jk}^2} - 2 \\sum_j \\frac{F_{jk}}{\\sigma_{jk}^2} + 2 \\sum_j \\sum_n \\frac{W_{jn} T_{jkn}}{\\sigma_{jk}^2}\n",
    "$$"
   ]
  },
  {
   "cell_type": "markdown",
   "metadata": {},
   "source": [
    "To differentiate w.r.t. $W_{jn}$, first write down just the terms involving $W_{jn}$:\n",
    "\n",
    "$$\n",
    "\\begin{aligned}\n",
    "\\chi^2(W_{jn}~{\\rm terms~only}) & = \\sum_k \\sigma^{-2}_{jk} \\left\\{ W_{jn} T_{jkn} \\left[ \\sum_{m=1}^N  W_{jm} T_{jkm} + 2 (A_k - F_{jk}) \\right] \\right\\} \\\\\n",
    "& = \\sum_k \\sigma^{-2}_{jk} \\left[ W^2_{jn} T^2_{jkn} + W_{jn} T_{jkn}\\sum_{m \\ne n} W_{jm} T_{jkm} + 2 W_{jn} T_{jkn} (A_k - F_{jk}) \\right] \\\\\n",
    "\\end{aligned}\n",
    "$$"
   ]
  },
  {
   "cell_type": "markdown",
   "metadata": {},
   "source": [
    "Now differentiate:\n",
    "\n",
    "$$\n",
    "\\frac{\\partial \\chi^2}{\\partial W_{jn}} = 2 W_{jn} \\sum_k \\frac{ T_{jkn}^2}{\\sigma_{jk}^2} + 2 \\sum_{m \\ne n} W_{jm}\n",
    "\\sum_k \\frac{T_{jkn} T_{jkm}}{\\sigma_{jk}^2} + 2 \\sum_k \\frac{A_k T_{jkn}}{\\sigma_{jk}^2} - 2 \\sum_k \\frac{F_{jk} T_{jkn}}{\\sigma_{jk}^2}\n",
    "$$"
   ]
  },
  {
   "cell_type": "markdown",
   "metadata": {},
   "source": [
    "### Setting the derivatives to zero"
   ]
  },
  {
   "cell_type": "markdown",
   "metadata": {},
   "source": [
    "The $\\chi^2$ is minimized if:\n",
    "\n",
    "$$\n",
    "\\begin{aligned}\n",
    "A_k \\sum_j \\frac{1}{\\sigma_{jk}^2} + \\sum_j \\sum_n \\frac{W_{jn} T_{jkn}}{\\sigma_{jk}^2} - \\sum_j \\frac{F_{jk}}{\\sigma_{jk}^2} = 0 & ~ \\forall \\, k, ~~~ {\\rm and}\\\\\n",
    "\\sum_k \\frac{A_k T_{jkn}}{\\sigma_{jk}^2} + W_{jn} \\sum_k \\frac{T_{jkn}^2}{\\sigma_{jk}^2} + \\sum_{m \\ne n} W_{jm} \\sum_k \\frac{T_{jkn} T_{jkm}}{\\sigma_{jk}^2} - \\sum_k \\frac{F_{jk} T_{jkn}}{\\sigma_{jk}^2} = 0 & ~ \\forall \\, j,n.\n",
    "\\end{aligned}\n",
    "$$"
   ]
  },
  {
   "cell_type": "markdown",
   "metadata": {},
   "source": [
    "### Matrix form"
   ]
  },
  {
   "cell_type": "markdown",
   "metadata": {},
   "source": [
    "The set of equations minimising the $\\chi^2$ can be rewritten as a (big) matrix equation $\\mathrm{X} \\mathbf{p} = \\mathbf{y}$, where $\\mathbf{p}$ is a $P$-element vector containing all the parameters, while the matrix $\\mathrm{X}$ and the vector $\\mathbf{y}$ depend only on the $F_{jk}$'s, the $\\sigma_{jk}$'s and the $B_{jkn}$'s. \n",
    "\n",
    "Once we have defined $\\mathrm{X}$ and $\\mathbf{y}$, the best-fit parameters $\\mathbf{p}$ can be found by numerically solving the matrix equation."
   ]
  },
  {
   "cell_type": "markdown",
   "metadata": {},
   "source": [
    "Let us expand $\\mathrm{X}$, $\\mathbf{p}$ and $\\mathbf{y}$. "
   ]
  },
  {
   "cell_type": "markdown",
   "metadata": {},
   "source": [
    "$$\n",
    "\\begin{bmatrix}\n",
    "\\mathrm{C} & \\mathrm{D}_1 & \\mathrm{D}_2 & \\dots & \\mathrm{D}_J \\\\\n",
    "\\mathrm{D}_1^T & \\mathrm{E}_1 & 0 & \\dots & 0 \\\\\n",
    "\\mathrm{D}_2^T & 0 & \\mathrm{E}_{2} & \\dots & 0 \\\\\n",
    "\\vdots & \\vdots & \\vdots & \\ddots & \\vdots \\\\\n",
    "\\mathrm{D}_J^T & 0 & 0 & \\dots & \\mathrm{E}_J\n",
    "\\end{bmatrix}\n",
    "\\begin{bmatrix}\n",
    "\\mathbf{a} \\\\\n",
    "\\mathbf{w}_1 \\\\\n",
    "\\mathbf{w}_2 \\\\\n",
    "\\vdots \\\\\n",
    "\\mathbf{w}_J\n",
    "\\end{bmatrix} \n",
    "=\n",
    "\\begin{bmatrix}\n",
    "\\mathbf{q} \\\\\n",
    "\\mathbf{r}_1 \\\\\n",
    "\\mathbf{r}_2 \\\\\n",
    "\\vdots \\\\\n",
    "\\mathbf{r}_J\n",
    "\\end{bmatrix},\n",
    "$$"
   ]
  },
  {
   "cell_type": "markdown",
   "metadata": {},
   "source": [
    "where the sub-matrices on the LHS are given by:\n",
    "\n",
    "$$\n",
    "\\mathrm{C} = \\begin{bmatrix}\n",
    "\\sum_j \\sigma_{j1}^{-2} & 0 & \\dots & 0 \\\\\n",
    "0 & \\sum_j \\sigma_{j2}^{-2} & \\dots & 0 \\\\\n",
    "\\vdots & \\vdots & \\ddots & \\vdots \\\\\n",
    "0 & 0 & \\dots & \\sum_j \\sigma_{jK}^{-2}\n",
    "\\end{bmatrix},~~~~~\n",
    "\\mathrm{D}_j = \\begin{bmatrix}\n",
    "\\frac{T_{j11}}{\\sigma_{j1}^2} & \\frac{T_{j12}}{\\sigma_{j1}^2} & \\dots & \\frac{T_{j1N}}{\\sigma_{j1}^2} \\\\\n",
    "\\frac{T_{j21}}{\\sigma_{j2}^2} & \\frac{T_{j22}}{\\sigma_{j2}^2} & \\dots & \\frac{T_{j2N}}{\\sigma_{j2}^2} \\\\\n",
    "\\vdots & \\vdots & \\ddots & \\vdots \\\\\n",
    "\\frac{T_{jK1}}{\\sigma_{jK}^2} & \\frac{T_{jK2}}{\\sigma_{jK}^2} & \\dots & \\frac{T_{jKN}}{\\sigma_{jK}^2} \\\\\n",
    "\\end{bmatrix}~~~~~{\\rm and}~~~~~\n",
    "\\mathrm{E}_j = \\begin{bmatrix}\n",
    "\\sum_k \\frac{T_{jk1}^2}{\\sigma_{jk}^2} & \\sum_k \\frac{T_{jk1} T_{jk2}}{\\sigma_{jk}^2} & \\dots & \\sum_k \\frac{T_{jk1} T_{jkN}}{\\sigma_{jk}^2} \\\\\n",
    "\\sum_k \\frac{T_{jk1} T_{jk2}}{\\sigma_{jk}^2} & \\sum_k \\frac{T_{jk2}^2}{\\sigma_{jk}^2} & \\dots & \n",
    "\\sum_k \\frac{T_{jk2} T_{jkN}}{\\sigma_{jk}^2} \\\\\n",
    "\\vdots & \\vdots & \\ddots & \\vdots \\\\\n",
    "\\sum_k \\frac{T_{jk1} T_{jkN}}{\\sigma_{jk}^2} & \\sum_k \\frac{T_{jk2} T_{jkN}}{\\sigma_{jk}^2} & \\dots & \n",
    "\\sum_k \\frac{T_{jkN}^2}{\\sigma_{jk}^2}.\n",
    "\\end{bmatrix}\n",
    "$$"
   ]
  },
  {
   "cell_type": "markdown",
   "metadata": {},
   "source": [
    "while the sub-vectors on the RHS are given by:\n",
    "\n",
    "$$\n",
    "\\mathbf{q} = \\begin{bmatrix}\n",
    "\\sum_j \\frac{F_{j1}}{\\sigma_{j1}^2} \\\\\n",
    "\\sum_j \\frac{F_{j2}}{\\sigma_{j2}^2} \\\\\n",
    "\\vdots \\\\\n",
    "\\sum_j \\frac{F_{jK}}{\\sigma_{jK}^2} \\\\\n",
    "\\end{bmatrix}~~~~~{\\rm and}~~~~~\n",
    "\\mathbf{r}_j = \\begin{bmatrix}\n",
    "\\sum_k \\frac{F_{jk} T_{jk1}}{\\sigma_{jk}^2} \\\\\n",
    "\\sum_k \\frac{F_{jk} T_{jk2}}{\\sigma_{jk}^2} \\\\\n",
    "\\vdots \\\\\n",
    "\\sum_k \\frac{F_{jk} T_{jkN}}{\\sigma_{jk}^2} \\\\\n",
    "\\end{bmatrix}.\n",
    "$$"
   ]
  },
  {
   "cell_type": "markdown",
   "metadata": {},
   "source": [
    "In shorter notation:\n",
    "* $\\mathrm{C} = {\\rm diag} \\left\\{ \\sum_j \\sigma_{jk}^{-2},~k=1 \\rightarrow K\\right\\}$, \n",
    "* the ${kn}^{\\rm th}$ element of $\\mathrm{D}_j$ is equal to $\\tilde{T}_{jkn} \\equiv \\frac{T_{jkn}}{\\sigma_{jk}^2}$,\n",
    "* the ${nm}^{\\rm th}$ element of $\\mathrm{E}_j$ is the dot product of the $n^{\\rm th}$ and $m^{\\rm th}$ rows of $\\tilde{\\mathrm{T}}_j$, where $\\tilde{\\mathrm{T}}_j = \\mathrm{T}_j / \\{ \\sigma_{jk} \\}$.\n",
    "* $q_k = \\sum_j \\frac{F_{jk}}{\\sigma_{jk}^2}$ is the variance-weighted average of the observed flux in frame $k$ across all cameras\n",
    "* the ${n}^{\\rm th}$ element of $\\mathrm{E}_j$ is the dot product of $\\tilde{F}_{jk}$ and the $n^{\\rm th}$ row of $\\tilde{\\mathrm{T}}_j$, where $\\tilde{\\mathrm{F}}_{jk} = F_{jk}/\\sigma_{jk}$."
   ]
  },
  {
   "cell_type": "markdown",
   "metadata": {},
   "source": [
    "### Inverting X"
   ]
  },
  {
   "cell_type": "markdown",
   "metadata": {
    "collapsed": true
   },
   "source": [
    "As we have broken $\\mathbf{X}$ into blocks:\n",
    "\n",
    "$$\n",
    "\\mathbf{X} =\\begin{bmatrix} \\mathbf{C}  & \\mathbf{D} \\\\ \\mathbf{D}^T & \\mathbf{E}\\end{bmatrix}\n",
    "$$\n",
    "\n",
    "we can write its inverse\n",
    "\n",
    "$$\n",
    "\\mathbf{X}^{-1} =\n",
    "\\begin{bmatrix} \n",
    "\\mathbf{C}^{-1} + \\mathbf{C}^{-1} \\mathbf{D} (\\mathbf{E} - \\mathbf{D}^T \\mathbf{C}^{-1} \\mathbf{D})^{-1} \\mathbf{D}^T \\mathbf{C}^{-1} & \n",
    "- \\mathbf{C}^{-1}\\mathbf{D} (\\mathbf{E} - \\mathbf{D}^T \\mathbf{C}^{-1} \\mathbf{D})^{-1} \\\\ \n",
    "- (\\mathbf{E}-\\mathbf{D}^T \\mathbf{C}^{-1} \\mathbf{D})^{-1} \\mathbf{D}^T \\mathbf{C}^{-1} & \n",
    "(\\mathbf{E} -\\mathbf{D}^T \\mathbf{C}^{-1} \\mathbf{D})^{-1}\n",
    "\\end{bmatrix}\n",
    "$$\n",
    "\n",
    "As $\\mathbf{C}$ is diagonal, \n",
    "\n",
    "$$\n",
    "\\mathbf{C}^{-1}_{k} = 1/\\mathbf{C}_{k}=(\\sum_j \\sigma_{jk}^2)^{-1}.\n",
    "$$ "
   ]
  },
  {
   "cell_type": "code",
   "execution_count": null,
   "metadata": {
    "collapsed": true
   },
   "outputs": [],
   "source": []
  }
 ],
 "metadata": {
  "anaconda-cloud": {},
  "kernelspec": {
   "display_name": "Python [default]",
   "language": "python",
   "name": "python2"
  },
  "language_info": {
   "codemirror_mode": {
    "name": "ipython",
    "version": 2
   },
   "file_extension": ".py",
   "mimetype": "text/x-python",
   "name": "python",
   "nbconvert_exporter": "python",
   "pygments_lexer": "ipython2",
   "version": "2.7.12"
  }
 },
 "nbformat": 4,
 "nbformat_minor": 2
}
