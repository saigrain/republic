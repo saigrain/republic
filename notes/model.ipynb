{
 "cells": [
  {
   "cell_type": "markdown",
   "metadata": {},
   "source": [
    "# PLATO-republic\n",
    "\n",
    "PLATO will use multiple cameras to observe the same stars. Hopefully the systematics affecting the different cameras will be different. Here I develop an algorithm for modelling the systematics simultaneously with the intrinsic variability of the stars, and disentagling the two, that makes use of this specific configuration."
   ]
  },
  {
   "cell_type": "markdown",
   "metadata": {},
   "source": [
    "## The model\n",
    "\n",
    "The observed (background-subtracted) flux for star $i$ ($i=1,\\ldots,I$) in camera $j$ ($j=1,\\ldots,J$) at exposure $k$ ($k=1,\\ldots,K$) is modelled as follows:\n",
    "\n",
    "$$\n",
    "F_{ijk} = A_{ik} + B_{ijk} + \\epsilon_{ijk}\n",
    "$$\n",
    "\n",
    "where $A_{ik} $ represents the intrinsic flux of star $i$ in frame $k$, $B_{ijk}$ the systematic noise for star $i$ in frame $k$ on camera $j$, and $\\epsilon_{ijk}$ the corresponding random (white and Gaussian) noise. "
   ]
  },
  {
   "cell_type": "markdown",
   "metadata": {},
   "source": [
    "### Caveats\n",
    "\n",
    "The above model assumes that:\n",
    "- the systematics are additive rather than multiplicative;\n",
    "- the contamination and aperture losses are the same in all cameras.\n",
    "\n",
    "One could account for multiplicative trends by modelling the logarithm of the flux, but one would then have to treat the white noise as multiplicative also which is unlikely to be strictly correct. In practice one might have to try both and see which works best.\n",
    "\n",
    "The model can be modified to account for variable contamination and aperture losses by replacing $A_{ik}$ with $\\alpha_{ij} A_{ik} + \\beta{ij}$ where $0<\\alpha_{ij} \\le 1$ represents the fraction of the total flux of star $i$ captured in the aperture in camera $j$ and $\\beta_{ij}$ the contaminating flux in the aperture.\n",
    "\n",
    "However to keep things simple these modifications are not discussed further here."
   ]
  },
  {
   "cell_type": "markdown",
   "metadata": {},
   "source": [
    "### Linear basis model for the systematics\n",
    "\n",
    "The systematics are modelled as a linear combination of individual \"trends\" which are specific to each camera but common to all stars on that camera:\n",
    "\n",
    "$$\n",
    "B_{ijk} = \\sum_{n=1}^{N_j} w_{ijn} b^{(j)}_{kn}\n",
    "$$\n",
    "\n",
    "where $b^{(j)}_{kn}$ is the value of the $n^{\\rm th}$ systematic trend for camera $j$ in frame $k$, $N_j$ is the number of systematic trends for camera $j$ (which can be different for different values of $j$), and $w_{ijn}$ is the coefficient linking that trend to star $i$."
   ]
  },
  {
   "cell_type": "markdown",
   "metadata": {
    "collapsed": true
   },
   "source": [
    "### Two-step modelling approach\n",
    "\n",
    "The algorithm has two steps:\n",
    "1. identifying the systematic trends for each camera, and\n",
    "2. fitting the trends and instrinsic variability for each star. \n",
    "\n",
    "This is very much like the PDC-MAP pipeline used by Kepler, K2 and TESS, and indeed the trend identification scheme is basically the same, so I only describe it briefly. \n",
    "\n",
    "On the other hand the availability of multiple time-series per star from different cameras makes it possible to fit the trends for each star in a different manner that explicitly models the stellar variability as well, and should hopefully be more robust."
   ]
  },
  {
   "cell_type": "markdown",
   "metadata": {},
   "source": [
    "### Trend identification\n",
    "\n",
    "Following the PDC-MAP approach (Smith et al. 2012), the trends can be identified as the first few principal components of a matrix constructed from the most mutually correlated light curves on a given camera, appropriately weighted. Alternatively (or in addition) external house-keeping parameters such as satellite pointing, detector temperature and camera focus can be included in the basis.\n",
    "\n",
    "From now on we assume the trends are known."
   ]
  },
  {
   "cell_type": "markdown",
   "metadata": {
    "collapsed": true
   },
   "source": [
    "### Star-by-star fitting\n",
    "\n",
    "Once the trends are known, each star can be modelled independently so I will drop the $i$ subscript from now on. If we model the $J$ observed time-series for each star simultaneously, and we assume the white noise is also known, which is a fair assumption for space data, we have $K \\times J$ observables, and $K + \\sum_{j=1}^J N_J$ unknowns: the $A_k$'s and $w_{jn}$'s, and the model is purely linear. Maximising the model likelihood is equivalent to minimizing the total $\\chi^2$. \n",
    " \n",
    "The model should be convex in the $w_{jn}$'s but it may be necessary to impose a regularisation in the $A_k$'s."
   ]
  },
  {
   "cell_type": "markdown",
   "metadata": {},
   "source": [
    "## Minimizing the $\\chi^2$"
   ]
  },
  {
   "cell_type": "markdown",
   "metadata": {},
   "source": [
    "The total $\\chi^2$ is given by\n",
    "\n",
    "$$\n",
    "\\begin{aligned}\n",
    "\\chi^2 & = \\sum_{j=1}^J \\sum_{k=1}^K \\left[ F_{jk} - A_k - \\sum_{n=1}^{N_j} w_{jn} b^{(j)}_{kn} \\right]^2 \\\\\n",
    "& = \\sum_{j=1}^J \\sum_{k=1}^K \\left[ F^2_{jk} + A_k^2 + \\sum_{n=1}^{N_j} w^2_{jn} (b^{(j)}_{kn})^2 \n",
    "+ 2 \\sum_{m \\ne n} w_{jn} w_{jm} b^{(j)}_{kn} b^{(j)}_{km} - 2 F_{jk} A_k - 2 ( F_{jk} + A_k) \\sum_{n=1}^{N_j} w_{jn} b^{(j)}_{kn} \\right]\n",
    "\\end{aligned}\n",
    "$$"
   ]
  },
  {
   "cell_type": "markdown",
   "metadata": {},
   "source": [
    "Differentiating w.r.t. $A_k$:\n",
    "\n",
    "$$\n",
    "\\frac{\\partial \\chi^2}{\\partial A_k} = \\ldots\n",
    "$$"
   ]
  },
  {
   "cell_type": "code",
   "execution_count": null,
   "metadata": {
    "collapsed": true
   },
   "outputs": [],
   "source": []
  }
 ],
 "metadata": {
  "anaconda-cloud": {},
  "kernelspec": {
   "display_name": "Python [default]",
   "language": "python",
   "name": "python2"
  },
  "language_info": {
   "codemirror_mode": {
    "name": "ipython",
    "version": 2
   },
   "file_extension": ".py",
   "mimetype": "text/x-python",
   "name": "python",
   "nbconvert_exporter": "python",
   "pygments_lexer": "ipython2",
   "version": "2.7.12"
  }
 },
 "nbformat": 4,
 "nbformat_minor": 2
}
